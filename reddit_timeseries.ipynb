{
 "cells": [
  {
   "cell_type": "markdown",
   "metadata": {},
   "source": [
    "### Import Libraries"
   ]
  },
  {
   "cell_type": "code",
   "execution_count": 31,
   "metadata": {},
   "outputs": [
    {
     "name": "stdout",
     "output_type": "stream",
     "text": [
      "0.22.0\n"
     ]
    }
   ],
   "source": [
    "import numpy as np\n",
    "import pandas as pd\n",
    "print(pd.__version__)\n",
    "pd.options.display.max_colwidth = 500"
   ]
  },
  {
   "cell_type": "markdown",
   "metadata": {},
   "source": [
    "## Import CSV's into pandas dataframes"
   ]
  },
  {
   "cell_type": "code",
   "execution_count": 74,
   "metadata": {},
   "outputs": [
    {
     "name": "stdout",
     "output_type": "stream",
     "text": [
      "(1932, 25)\n",
      "Index(['approved_by', 'archived', 'author', 'author_flair_text',\n",
      "       'comment_limit', 'created', 'distinguished', 'downs', 'gilded', 'id',\n",
      "       'is_video', 'likes', 'name', 'num_comments', 'num_crossposts',\n",
      "       'over_18', 'pinned', 'quarantine', 'score', 'selftext', 'send_replies',\n",
      "       'subreddit_id', 'title', 'ups', 'post'],\n",
      "      dtype='object')\n",
      "(9005, 19)\n",
      "Index(['_submission', 'approved_by', 'archived', 'author', 'author_flair_text',\n",
      "       'body', 'comment_id', 'created', 'distinguished', 'downs', 'gilded',\n",
      "       'link_id', 'name', 'parent_id', 'score', 'send_replies', 'subreddit_id',\n",
      "       'ups', 'post'],\n",
      "      dtype='object')\n"
     ]
    }
   ],
   "source": [
    "df_submissions = pd.read_csv(\"reddit_submissions_2018-05-03_1753.csv\",\n",
    "skipinitialspace=True,\n",
    "header = 0,\n",
    "sep = ',',\n",
    "index_col=0,\n",
    "encoding='latin1').fillna('')\n",
    "df_submissions['post'] = 1\n",
    "print(df_submissions.shape)\n",
    "print(df_submissions.columns)\n",
    "\n",
    "df_comments = pd.read_csv(\"reddit_comments_2018-05-03_1753.csv\",\n",
    "skipinitialspace=True,\n",
    "header = 0,\n",
    "sep = ',',\n",
    "index_col=0,\n",
    "encoding='latin1').fillna('')\n",
    "df_comments['post'] = 1\n",
    "print(df_comments.shape)\n",
    "print(df_comments.columns)"
   ]
  },
  {
   "cell_type": "markdown",
   "metadata": {},
   "source": [
    "## Renaming Columns"
   ]
  },
  {
   "cell_type": "code",
   "execution_count": 75,
   "metadata": {
    "collapsed": true
   },
   "outputs": [],
   "source": [
    "df_comments = df_comments.rename(columns={'_submission':'id',\n",
    "                                         'body':'selftext'})"
   ]
  },
  {
   "cell_type": "markdown",
   "metadata": {},
   "source": [
    "## Merge Dataframes "
   ]
  },
  {
   "cell_type": "code",
   "execution_count": 94,
   "metadata": {},
   "outputs": [
    {
     "name": "stdout",
     "output_type": "stream",
     "text": [
      "(10937, 30)\n"
     ]
    },
    {
     "data": {
      "text/plain": [
       "Index(['approved_by', 'archived', 'author', 'author_flair_text', 'comment_id',\n",
       "       'comment_limit', 'created', 'distinguished', 'downs', 'gilded', 'id',\n",
       "       'is_video', 'likes', 'link_id', 'name', 'num_comments',\n",
       "       'num_crossposts', 'over_18', 'parent_id', 'pinned', 'post',\n",
       "       'quarantine', 'score', 'selftext', 'send_replies', 'subreddit_id',\n",
       "       'title', 'ups', 'comment', 'submission'],\n",
       "      dtype='object')"
      ]
     },
     "execution_count": 94,
     "metadata": {},
     "output_type": "execute_result"
    }
   ],
   "source": [
    "df_all = df_submissions.append(df_comments)\n",
    "df_all['comment'] = np.where(df_all['comment_id'].isnull(),0,1)\n",
    "df_all['submission'] = np.where(df_all['comment']==0,1,0)\n",
    "print(df_all.shape)\n",
    "df_all.columns"
   ]
  },
  {
   "cell_type": "markdown",
   "metadata": {},
   "source": [
    "## Format variables related to time"
   ]
  },
  {
   "cell_type": "markdown",
   "metadata": {},
   "source": [
    "The date of Reddit's posts are stored in seconds <br>\n",
    "* the initial date is '1970-01-01 00:00:00' <br>\n",
    "* The unit argument stands for the unit of time measure : 's'\n",
    "* Split the date and the time in separeted variables\n",
    "* The variable 'created' is reffering to the Timestamp from ? ... We can convert it to UTC by removing 8 hours"
   ]
  },
  {
   "cell_type": "code",
   "execution_count": 95,
   "metadata": {
    "scrolled": true
   },
   "outputs": [
    {
     "name": "stdout",
     "output_type": "stream",
     "text": [
      "1970-01-01 00:00:00\n"
     ]
    }
   ],
   "source": [
    "start = 0\n",
    "start = pd.to_datetime(start, unit='s')\n",
    "print(start)"
   ]
  },
  {
   "cell_type": "code",
   "execution_count": 96,
   "metadata": {},
   "outputs": [
    {
     "name": "stdout",
     "output_type": "stream",
     "text": [
      "0   2018-04-23 01:08:24\n",
      "1   2018-04-22 20:22:23\n",
      "Name: datetime, dtype: datetime64[ns]\n"
     ]
    }
   ],
   "source": [
    "df_all['datetime'] = pd.to_datetime(df_all['created'], unit='s')\n",
    "df_all['datetime'] = pd.DatetimeIndex(df_all['datetime'])\n",
    "print(df_all['datetime'][0:2])"
   ]
  },
  {
   "cell_type": "code",
   "execution_count": 97,
   "metadata": {
    "scrolled": true
   },
   "outputs": [
    {
     "name": "stdout",
     "output_type": "stream",
     "text": [
      "DatetimeIndex(['2018-04-23 01:08:24', '2018-04-22 20:22:23'], dtype='datetime64[ns]', name='created', freq=None)\n"
     ]
    }
   ],
   "source": [
    "temp = pd.to_datetime(df_all['created'], unit='s')\n",
    "temp = pd.DatetimeIndex(temp)\n",
    "print(temp[0:2])"
   ]
  },
  {
   "cell_type": "code",
   "execution_count": 98,
   "metadata": {},
   "outputs": [
    {
     "name": "stdout",
     "output_type": "stream",
     "text": [
      "0    2018-04-23\n",
      "1    2018-04-22\n",
      "Name: date, dtype: object\n",
      "0    01:08:24\n",
      "1    20:22:23\n",
      "Name: time, dtype: object\n"
     ]
    }
   ],
   "source": [
    "df_all['date'] = temp.date\n",
    "df_all['time'] = temp.time\n",
    "print(df_all['date'][0:2])\n",
    "print(df_all['time'][0:2])"
   ]
  },
  {
   "cell_type": "markdown",
   "metadata": {},
   "source": [
    "## Time series Analysis"
   ]
  },
  {
   "cell_type": "code",
   "execution_count": 99,
   "metadata": {
    "collapsed": true
   },
   "outputs": [],
   "source": [
    "from pandas import Series, DataFrame, Panel, Grouper"
   ]
  },
  {
   "cell_type": "code",
   "execution_count": 100,
   "metadata": {
    "collapsed": true
   },
   "outputs": [],
   "source": [
    "df_all = df_all.set_index('datetime')"
   ]
  },
  {
   "cell_type": "code",
   "execution_count": 105,
   "metadata": {
    "scrolled": true
   },
   "outputs": [
    {
     "name": "stdout",
     "output_type": "stream",
     "text": [
      "datetime\n",
      "2017-11-30    189\n",
      "2017-12-31    259\n",
      "2018-01-31    327\n",
      "2018-02-28    374\n",
      "2018-03-31    402\n",
      "2018-04-30    363\n",
      "2018-05-31     18\n",
      "Freq: M, Name: submission, dtype: int32\n",
      "datetime\n",
      "2017-11-30     843\n",
      "2017-12-31    1188\n",
      "2018-01-31    1480\n",
      "2018-02-28    1491\n",
      "2018-03-31    1903\n",
      "2018-04-30    1962\n",
      "2018-05-31     138\n",
      "Freq: M, Name: comment, dtype: int32\n"
     ]
    }
   ],
   "source": [
    "sub_permonth = df_all['submission'].resample(\"M\").sum()\n",
    "print(sub_permonth)\n",
    "\n",
    "comment_permonth = df_all['comment'].resample(\"M\").sum()\n",
    "print(comment_permonth)"
   ]
  },
  {
   "cell_type": "code",
   "execution_count": null,
   "metadata": {
    "collapsed": true
   },
   "outputs": [],
   "source": []
  }
 ],
 "metadata": {
  "kernelspec": {
   "display_name": "py36",
   "language": "python",
   "name": "py36"
  },
  "language_info": {
   "codemirror_mode": {
    "name": "ipython",
    "version": 3
   },
   "file_extension": ".py",
   "mimetype": "text/x-python",
   "name": "python",
   "nbconvert_exporter": "python",
   "pygments_lexer": "ipython3",
   "version": "3.6.3"
  }
 },
 "nbformat": 4,
 "nbformat_minor": 2
}
