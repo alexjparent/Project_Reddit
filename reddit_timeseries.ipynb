{
 "cells": [
  {
   "cell_type": "markdown",
   "metadata": {},
   "source": [
    "### Import Libraries"
   ]
  },
  {
   "cell_type": "code",
   "execution_count": 1,
   "metadata": {},
   "outputs": [
    {
     "name": "stdout",
     "output_type": "stream",
     "text": [
      "0.20.3\n"
     ]
    }
   ],
   "source": [
    "import numpy as np\n",
    "import pandas as pd\n",
    "print(pd.__version__)\n",
    "pd.options.display.max_colwidth = 500"
   ]
  },
  {
   "cell_type": "markdown",
   "metadata": {},
   "source": [
    "## Import CSV's into pandas dataframes"
   ]
  },
  {
   "cell_type": "code",
   "execution_count": 27,
   "metadata": {},
   "outputs": [
    {
     "name": "stdout",
     "output_type": "stream",
     "text": [
      "(1362, 26)\n",
      "Index(['id', 'subreddit_id', 'title', 'score', 'author', 'author_flair_text',\n",
      "       'likes', 'archived', 'is_video', 'name', 'over_18', 'pinned',\n",
      "       'quarantine', 'selftext', 'send_replies', 'num_comments',\n",
      "       'num_crossposts', 'distinguished', 'created', 'created_utc',\n",
      "       'comment_limit', 'approved_by', 'ups', 'downs', 'gilded', 'post'],\n",
      "      dtype='object')\n",
      "(6704, 20)\n",
      "Index(['comment_id', '_submission', 'subreddit_id', 'score', 'author',\n",
      "       'author_flair_text', 'archived', 'name', 'body', 'send_replies',\n",
      "       'distinguished', 'created', 'created_utc', 'approved_by', 'link_id',\n",
      "       'parent_id', 'ups', 'downs', 'gilded', 'post'],\n",
      "      dtype='object')\n"
     ]
    }
   ],
   "source": [
    "df_submissions = pd.read_csv(\"reddit_submissions_wUTC_2018-05-10_1022.csv\",\n",
    "skipinitialspace=True,\n",
    "header = 0,\n",
    "sep = ',',\n",
    "index_col=0,\n",
    "encoding='latin1').fillna('')\n",
    "df_submissions['post'] = 1\n",
    "print(df_submissions.shape)\n",
    "print(df_submissions.columns)\n",
    "\n",
    "df_comments = pd.read_csv(\"reddit_comments_wUTC2018-05-10_1022.csv\",\n",
    "skipinitialspace=True,\n",
    "header = 0,\n",
    "sep = ',',\n",
    "index_col=0,\n",
    "encoding='latin1').fillna('')\n",
    "df_comments['post'] = 1\n",
    "print(df_comments.shape)\n",
    "print(df_comments.columns)"
   ]
  },
  {
   "cell_type": "markdown",
   "metadata": {},
   "source": [
    "## Renaming Columns"
   ]
  },
  {
   "cell_type": "code",
   "execution_count": 3,
   "metadata": {
    "collapsed": true
   },
   "outputs": [],
   "source": [
    "df_comments = df_comments.rename(columns={'_submission':'id',\n",
    "                                         'body':'selftext'})"
   ]
  },
  {
   "cell_type": "markdown",
   "metadata": {},
   "source": [
    "## Merge Dataframes "
   ]
  },
  {
   "cell_type": "code",
   "execution_count": 4,
   "metadata": {},
   "outputs": [
    {
     "name": "stdout",
     "output_type": "stream",
     "text": [
      "(8066, 31)\n"
     ]
    },
    {
     "data": {
      "text/plain": [
       "Index(['approved_by', 'archived', 'author', 'author_flair_text', 'comment_id',\n",
       "       'comment_limit', 'created', 'created_utc', 'distinguished', 'downs',\n",
       "       'gilded', 'id', 'is_video', 'likes', 'link_id', 'name', 'num_comments',\n",
       "       'num_crossposts', 'over_18', 'parent_id', 'pinned', 'post',\n",
       "       'quarantine', 'score', 'selftext', 'send_replies', 'subreddit_id',\n",
       "       'title', 'ups', 'comment', 'submission'],\n",
       "      dtype='object')"
      ]
     },
     "execution_count": 4,
     "metadata": {},
     "output_type": "execute_result"
    }
   ],
   "source": [
    "df_all = df_submissions.append(df_comments)\n",
    "df_all['comment'] = np.where(df_all['comment_id'].isnull(),0,1)\n",
    "df_all['submission'] = np.where(df_all['comment']==0,1,0)\n",
    "print(df_all.shape)\n",
    "df_all.columns"
   ]
  },
  {
   "cell_type": "markdown",
   "metadata": {},
   "source": [
    "## Format variables related to time"
   ]
  },
  {
   "cell_type": "markdown",
   "metadata": {},
   "source": [
    "The date of Reddit's posts are stored in seconds <br>\n",
    "* the initial date is '1970-01-01 00:00:00' <br>\n",
    "* The unit argument stands for the unit of time measure : 's'\n",
    "* Split the date and the time in separeted variables\n",
    "* The variable 'created' is reffering to the Timestamp from ? ... We can convert it to UTC by removing 8 hours"
   ]
  },
  {
   "cell_type": "code",
   "execution_count": 5,
   "metadata": {
    "scrolled": true
   },
   "outputs": [
    {
     "name": "stdout",
     "output_type": "stream",
     "text": [
      "1970-01-01 00:00:00\n"
     ]
    }
   ],
   "source": [
    "start = 0\n",
    "start = pd.to_datetime(start, unit='s')\n",
    "print(start)"
   ]
  },
  {
   "cell_type": "markdown",
   "metadata": {},
   "source": [
    "### Compare created & created_UTC"
   ]
  },
  {
   "cell_type": "code",
   "execution_count": 15,
   "metadata": {
    "scrolled": true
   },
   "outputs": [
    {
     "name": "stdout",
     "output_type": "stream",
     "text": [
      "2   2018-05-03 16:44:18\n",
      "4   2018-05-03 17:02:20\n",
      "5   2018-05-03 11:51:18\n",
      "6   2018-05-02 19:40:32\n",
      "9   2018-05-02 19:33:26\n",
      "Name: datetime_utc, dtype: datetime64[ns]\n"
     ]
    }
   ],
   "source": [
    "df_all['datetime_utc'] = pd.to_datetime(df_all['created_utc'], unit='s')\n",
    "df_all['datetime_utc'] = pd.DatetimeIndex(df_all['datetime_utc'])\n",
    "print(df_all['datetime_utc'][0:5])"
   ]
  },
  {
   "cell_type": "markdown",
   "metadata": {},
   "source": [
    "### Format Date & Time"
   ]
  },
  {
   "cell_type": "code",
   "execution_count": 17,
   "metadata": {},
   "outputs": [
    {
     "name": "stdout",
     "output_type": "stream",
     "text": [
      "2   2018-05-04 00:44:18\n",
      "4   2018-05-04 01:02:20\n",
      "5   2018-05-03 19:51:18\n",
      "6   2018-05-03 03:40:32\n",
      "9   2018-05-03 03:33:26\n",
      "Name: datetime, dtype: datetime64[ns]\n"
     ]
    }
   ],
   "source": [
    "df_all['datetime'] = pd.to_datetime(df_all['created'], unit='s')\n",
    "df_all['datetime'] = pd.DatetimeIndex(df_all['datetime'])\n",
    "print(df_all['datetime'][0:5])"
   ]
  },
  {
   "cell_type": "code",
   "execution_count": 18,
   "metadata": {
    "scrolled": true
   },
   "outputs": [
    {
     "name": "stdout",
     "output_type": "stream",
     "text": [
      "DatetimeIndex(['2018-05-04 00:44:18', '2018-05-04 01:02:20'], dtype='datetime64[ns]', name='created', freq=None)\n"
     ]
    }
   ],
   "source": [
    "temp = pd.to_datetime(df_all['created'], unit='s')\n",
    "temp = pd.DatetimeIndex(temp)\n",
    "print(temp[0:2])"
   ]
  },
  {
   "cell_type": "code",
   "execution_count": 19,
   "metadata": {},
   "outputs": [
    {
     "name": "stdout",
     "output_type": "stream",
     "text": [
      "2    2018-05-04\n",
      "4    2018-05-04\n",
      "Name: date, dtype: object\n",
      "2    00:44:18\n",
      "4    01:02:20\n",
      "Name: time, dtype: object\n"
     ]
    }
   ],
   "source": [
    "df_all['date'] = temp.date\n",
    "df_all['time'] = temp.time\n",
    "print(df_all['date'][0:2])\n",
    "print(df_all['time'][0:2])"
   ]
  },
  {
   "cell_type": "markdown",
   "metadata": {},
   "source": [
    "## Time series Analysis"
   ]
  },
  {
   "cell_type": "markdown",
   "metadata": {},
   "source": [
    "down vote\n",
    "accepted\n",
    "B       business day frequency\n",
    "C       custom business day frequency (experimental)\n",
    "D       calendar day frequency\n",
    "W       weekly frequency\n",
    "M       month end frequency\n",
    "SM      semi-month end frequency (15th and end of month)\n",
    "BM      business month end frequency\n",
    "CBM     custom business month end frequency\n",
    "MS      month start frequency\n",
    "SMS     semi-month start frequency (1st and 15th)\n",
    "BMS     business month start frequency\n",
    "CBMS    custom business month start frequency\n",
    "Q       quarter end frequency\n",
    "BQ      business quarter endfrequency\n",
    "QS      quarter start frequency\n",
    "BQS     business quarter start frequency\n",
    "A       year end frequency\n",
    "BA      business year end frequency\n",
    "AS      year start frequency\n",
    "BAS     business year start frequency\n",
    "BH      business hour frequency\n",
    "H       hourly frequency\n",
    "T       minutely frequency\n",
    "S       secondly frequency\n",
    "L       milliseonds\n",
    "U       microseconds\n",
    "N       nanoseconds"
   ]
  },
  {
   "cell_type": "code",
   "execution_count": 20,
   "metadata": {
    "collapsed": true
   },
   "outputs": [],
   "source": [
    "from pandas import Series, DataFrame, Panel, Grouper"
   ]
  },
  {
   "cell_type": "code",
   "execution_count": 21,
   "metadata": {
    "collapsed": true
   },
   "outputs": [],
   "source": [
    "df_all = df_all.set_index('datetime')"
   ]
  },
  {
   "cell_type": "code",
   "execution_count": 22,
   "metadata": {
    "scrolled": false
   },
   "outputs": [
    {
     "name": "stdout",
     "output_type": "stream",
     "text": [
      "datetime\n",
      "2017-11-30     58\n",
      "2017-12-31    185\n",
      "2018-01-31    231\n",
      "2018-02-28    260\n",
      "2018-03-31    278\n",
      "2018-04-30    293\n",
      "2018-05-31     57\n",
      "Freq: M, Name: submission, dtype: int64\n",
      "datetime\n",
      "2017-11-30     229\n",
      "2017-12-31     890\n",
      "2018-01-31    1100\n",
      "2018-02-28    1107\n",
      "2018-03-31    1402\n",
      "2018-04-30    1590\n",
      "2018-05-31     386\n",
      "Freq: M, Name: comment, dtype: int64\n"
     ]
    }
   ],
   "source": [
    "sub_permonth = df_all['submission'].resample(\"M\").sum()\n",
    "print(sub_permonth)\n",
    "\n",
    "comment_permonth = df_all['comment'].resample(\"M\").sum()\n",
    "print(comment_permonth)"
   ]
  },
  {
   "cell_type": "code",
   "execution_count": 23,
   "metadata": {},
   "outputs": [
    {
     "name": "stdout",
     "output_type": "stream",
     "text": [
      "datetime\n",
      "2017-11-26    19\n",
      "2017-12-03    57\n",
      "2017-12-10    38\n",
      "2017-12-17    45\n",
      "2017-12-24    50\n",
      "2017-12-31    34\n",
      "2018-01-07    52\n",
      "2018-01-14    59\n",
      "2018-01-21    54\n",
      "2018-01-28    38\n",
      "2018-02-04    63\n",
      "2018-02-11    70\n",
      "2018-02-18    51\n",
      "2018-02-25    60\n",
      "2018-03-04    85\n",
      "2018-03-11    70\n",
      "2018-03-18    39\n",
      "2018-03-25    80\n",
      "2018-04-01    54\n",
      "2018-04-08    51\n",
      "2018-04-15    79\n",
      "2018-04-22    69\n",
      "2018-04-29    77\n",
      "2018-05-06    53\n",
      "2018-05-13    15\n",
      "Freq: W-SUN, Name: submission, dtype: int64\n",
      "datetime\n",
      "2017-11-26     74\n",
      "2017-12-03    225\n",
      "2017-12-10    198\n",
      "2017-12-17    217\n",
      "2017-12-24    274\n",
      "2017-12-31    131\n",
      "2018-01-07    208\n",
      "2018-01-14    260\n",
      "2018-01-21    291\n",
      "2018-01-28    220\n",
      "2018-02-04    257\n",
      "2018-02-11    256\n",
      "2018-02-18    221\n",
      "2018-02-25    299\n",
      "2018-03-04    373\n",
      "2018-03-11    328\n",
      "2018-03-18    254\n",
      "2018-03-25    424\n",
      "2018-04-01    243\n",
      "2018-04-08    336\n",
      "2018-04-15    448\n",
      "2018-04-22    419\n",
      "2018-04-29    320\n",
      "2018-05-06    326\n",
      "2018-05-13    102\n",
      "Freq: W-SUN, Name: comment, dtype: int64\n"
     ]
    }
   ],
   "source": [
    "sub_permonth = df_all['submission'].resample(\"W\").sum()\n",
    "print(sub_permonth)\n",
    "\n",
    "comment_permonth = df_all['comment'].resample(\"W\").sum()\n",
    "print(comment_permonth)"
   ]
  },
  {
   "cell_type": "code",
   "execution_count": 26,
   "metadata": {},
   "outputs": [
    {
     "name": "stdout",
     "output_type": "stream",
     "text": [
      "submissions : datetime\n",
      "2017-11-23     7\n",
      "2017-11-24     5\n",
      "2017-11-25     4\n",
      "2017-11-26     3\n",
      "2017-11-27     8\n",
      "2017-11-28    20\n",
      "2017-11-29     7\n",
      "2017-11-30     4\n",
      "2017-12-01     6\n",
      "2017-12-02     3\n",
      "2017-12-03     9\n",
      "2017-12-04     2\n",
      "2017-12-05     6\n",
      "2017-12-06     4\n",
      "2017-12-07     9\n",
      "2017-12-08    12\n",
      "2017-12-09     4\n",
      "2017-12-10     1\n",
      "2017-12-11     3\n",
      "2017-12-12    14\n",
      "2017-12-13     8\n",
      "2017-12-14     8\n",
      "2017-12-15    10\n",
      "2017-12-16     2\n",
      "2017-12-17     0\n",
      "2017-12-18     9\n",
      "2017-12-19    10\n",
      "2017-12-20     4\n",
      "2017-12-21     9\n",
      "2017-12-22     8\n",
      "              ..\n",
      "2018-04-11    11\n",
      "2018-04-12    19\n",
      "2018-04-13    15\n",
      "2018-04-14     5\n",
      "2018-04-15    11\n",
      "2018-04-16    11\n",
      "2018-04-17    20\n",
      "2018-04-18    12\n",
      "2018-04-19    11\n",
      "2018-04-20     6\n",
      "2018-04-21     4\n",
      "2018-04-22     5\n",
      "2018-04-23     4\n",
      "2018-04-24    25\n",
      "2018-04-25    12\n",
      "2018-04-26    16\n",
      "2018-04-27     6\n",
      "2018-04-28     8\n",
      "2018-04-29     6\n",
      "2018-04-30    11\n",
      "2018-05-01    13\n",
      "2018-05-02    11\n",
      "2018-05-03     6\n",
      "2018-05-04     8\n",
      "2018-05-05     3\n",
      "2018-05-06     1\n",
      "2018-05-07     3\n",
      "2018-05-08     5\n",
      "2018-05-09     4\n",
      "2018-05-10     3\n",
      "Freq: D, Name: submission, Length: 169, dtype: int64\n",
      "comments : datetime\n",
      "2017-11-23     23\n",
      "2017-11-24     25\n",
      "2017-11-25     15\n",
      "2017-11-26     11\n",
      "2017-11-27     27\n",
      "2017-11-28     58\n",
      "2017-11-29     51\n",
      "2017-11-30     19\n",
      "2017-12-01     19\n",
      "2017-12-02     24\n",
      "2017-12-03     27\n",
      "2017-12-04     22\n",
      "2017-12-05     35\n",
      "2017-12-06     17\n",
      "2017-12-07     43\n",
      "2017-12-08     40\n",
      "2017-12-09     31\n",
      "2017-12-10     10\n",
      "2017-12-11     16\n",
      "2017-12-12     47\n",
      "2017-12-13     48\n",
      "2017-12-14     38\n",
      "2017-12-15     40\n",
      "2017-12-16     23\n",
      "2017-12-17      5\n",
      "2017-12-18     23\n",
      "2017-12-19     44\n",
      "2017-12-20     39\n",
      "2017-12-21     44\n",
      "2017-12-22     60\n",
      "             ... \n",
      "2018-04-11     60\n",
      "2018-04-12     93\n",
      "2018-04-13    104\n",
      "2018-04-14     50\n",
      "2018-04-15     26\n",
      "2018-04-16     51\n",
      "2018-04-17    106\n",
      "2018-04-18     95\n",
      "2018-04-19     75\n",
      "2018-04-20     54\n",
      "2018-04-21     27\n",
      "2018-04-22     11\n",
      "2018-04-23     13\n",
      "2018-04-24     81\n",
      "2018-04-25     50\n",
      "2018-04-26     67\n",
      "2018-04-27     49\n",
      "2018-04-28     37\n",
      "2018-04-29     23\n",
      "2018-04-30     42\n",
      "2018-05-01     54\n",
      "2018-05-02     85\n",
      "2018-05-03     55\n",
      "2018-05-04     36\n",
      "2018-05-05     39\n",
      "2018-05-06     15\n",
      "2018-05-07     23\n",
      "2018-05-08     34\n",
      "2018-05-09     28\n",
      "2018-05-10     17\n",
      "Freq: D, Name: comment, Length: 169, dtype: int64\n"
     ]
    }
   ],
   "source": [
    "sub_permonth = df_all['submission'].resample(\"D\").sum()\n",
    "print('submissions : {}'.format(sub_permonth))\n",
    "\n",
    "comment_permonth = df_all['comment'].resample(\"D\").sum()\n",
    "print('comments : {}'.format(comment_permonth))"
   ]
  },
  {
   "cell_type": "code",
   "execution_count": null,
   "metadata": {
    "collapsed": true
   },
   "outputs": [],
   "source": []
  }
 ],
 "metadata": {
  "kernelspec": {
   "display_name": "Python (py36)",
   "language": "python",
   "name": "py36"
  },
  "language_info": {
   "codemirror_mode": {
    "name": "ipython",
    "version": 3
   },
   "file_extension": ".py",
   "mimetype": "text/x-python",
   "name": "python",
   "nbconvert_exporter": "python",
   "pygments_lexer": "ipython3",
   "version": "3.6.3"
  }
 },
 "nbformat": 4,
 "nbformat_minor": 2
}
