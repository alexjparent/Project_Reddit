{
 "cells": [
  {
   "cell_type": "markdown",
   "metadata": {},
   "source": [
    "# Update Dataframe"
   ]
  },
  {
   "cell_type": "markdown",
   "metadata": {},
   "source": [
    "This script has the objective to add submission and comment to the reddit dataframe"
   ]
  },
  {
   "cell_type": "markdown",
   "metadata": {},
   "source": [
    "# Import Libraries"
   ]
  },
  {
   "cell_type": "code",
   "execution_count": 1,
   "metadata": {
    "collapsed": true
   },
   "outputs": [],
   "source": [
    "import numpy as np\n",
    "import pandas as pd\n",
    "import praw"
   ]
  },
  {
   "cell_type": "code",
   "execution_count": 2,
   "metadata": {
    "collapsed": true
   },
   "outputs": [],
   "source": [
    "reddit = praw.Reddit(client_id='2YvrfPL-6r2E7g',\n",
    "                     client_secret='ClHTUejD1prIgWThqC5-IwswkM4',\n",
    "                     user_agent='alexparentt')"
   ]
  },
  {
   "cell_type": "markdown",
   "metadata": {},
   "source": [
    "# Import CSV's into pandas dataframes"
   ]
  },
  {
   "cell_type": "code",
   "execution_count": 3,
   "metadata": {
    "scrolled": true
   },
   "outputs": [
    {
     "name": "stdout",
     "output_type": "stream",
     "text": [
      "(1505, 26)\n",
      "(7555, 20)\n"
     ]
    }
   ],
   "source": [
    "df_submissions = pd.read_csv(\"reddit_submissions_wUTC_2018-05-16_2141.csv\",\n",
    "skipinitialspace=True,\n",
    "header = 0,\n",
    "sep = ',',\n",
    "encoding='latin1')\n",
    "print(df_submissions.shape)\n",
    "df_submissions = df_submissions.reset_index() \n",
    "del df_submissions['index']\n",
    "\n",
    "df_comments = pd.read_csv(\"reddit_comments_wUTC_2018-05-16_2141.csv\",\n",
    "skipinitialspace=True,\n",
    "header = 0,\n",
    "sep = ',',\n",
    "encoding='latin1')\n",
    "print(df_comments.shape)\n",
    "df_comments = df_comments.reset_index()\n",
    "del df_comments['index']\n",
    "\n",
    "df_submissions = df_submissions.rename(columns={'id':'id'})\n",
    "df_comments = df_comments.rename(columns={'id':'comment_id'})"
   ]
  },
  {
   "cell_type": "code",
   "execution_count": 4,
   "metadata": {},
   "outputs": [
    {
     "name": "stdout",
     "output_type": "stream",
     "text": [
      "(1505, 25)\n",
      "Index(['id', 'subreddit_id', 'title', 'score', 'author', 'author_flair_text',\n",
      "       'likes', 'archived', 'is_video', 'name', 'over_18', 'pinned',\n",
      "       'quarantine', 'selftext', 'send_replies', 'num_comments',\n",
      "       'num_crossposts', 'distinguished', 'created', 'created_utc',\n",
      "       'comment_limit', 'approved_by', 'ups', 'downs', 'gilded'],\n",
      "      dtype='object')\n",
      "id                    object\n",
      "subreddit_id          object\n",
      "title                 object\n",
      "score                  int64\n",
      "author                object\n",
      "author_flair_text     object\n",
      "likes                float64\n",
      "archived                bool\n",
      "is_video                bool\n",
      "name                  object\n",
      "over_18                 bool\n",
      "pinned                  bool\n",
      "quarantine              bool\n",
      "selftext              object\n",
      "send_replies            bool\n",
      "num_comments           int64\n",
      "num_crossposts         int64\n",
      "distinguished         object\n",
      "created              float64\n",
      "created_utc          float64\n",
      "comment_limit          int64\n",
      "approved_by          float64\n",
      "ups                    int64\n",
      "downs                  int64\n",
      "gilded                 int64\n",
      "dtype: object\n",
      "<class 'pandas.core.indexes.range.RangeIndex'>\n",
      "(7555, 19)\n",
      "Index(['comment_id', '_submission', 'subreddit_id', 'score', 'author',\n",
      "       'author_flair_text', 'archived', 'name', 'body', 'send_replies',\n",
      "       'distinguished', 'created', 'created_utc', 'approved_by', 'link_id',\n",
      "       'parent_id', 'ups', 'downs', 'gilded'],\n",
      "      dtype='object')\n",
      "comment_id            object\n",
      "_submission           object\n",
      "subreddit_id          object\n",
      "score                  int64\n",
      "author                object\n",
      "author_flair_text     object\n",
      "archived                bool\n",
      "name                  object\n",
      "body                  object\n",
      "send_replies            bool\n",
      "distinguished         object\n",
      "created              float64\n",
      "created_utc          float64\n",
      "approved_by          float64\n",
      "link_id               object\n",
      "parent_id             object\n",
      "ups                    int64\n",
      "downs                  int64\n",
      "gilded                 int64\n",
      "dtype: object\n",
      "<class 'pandas.core.indexes.range.RangeIndex'>\n"
     ]
    }
   ],
   "source": [
    "df_submissions = df_submissions.drop(['Unnamed: 0'], axis=1)\n",
    "df_comments = df_comments.drop(['Unnamed: 0'], axis=1)\n",
    "print(df_submissions.shape); print(df_submissions.columns); \n",
    "print(df_submissions.dtypes)\n",
    "#print(df_submissions[0:5])\n",
    "print(type(df_submissions.index))\n",
    "\n",
    "print(df_comments.shape); print(df_comments.columns)\n",
    "print(df_comments.dtypes)\n",
    "#print(df_comments[0:5])\n",
    "print(type(df_comments.index))"
   ]
  },
  {
   "cell_type": "markdown",
   "metadata": {},
   "source": [
    "# Get new data points"
   ]
  },
  {
   "cell_type": "code",
   "execution_count": 5,
   "metadata": {
    "collapsed": true
   },
   "outputs": [],
   "source": [
    "attributes_subm = ['id', \n",
    "                   'subreddit_id',\n",
    "              'title', \n",
    "              'score', \n",
    "              'author',\n",
    "             'author_flair_text',\n",
    "              'likes', \n",
    "              'archived',\n",
    "             'is_video',\n",
    "             'name',\n",
    "             'over_18',\n",
    "             'pinned',    \n",
    "             'quarantine',\n",
    "             'selftext',\n",
    "             'send_replies',\n",
    "             'num_comments',\n",
    "             'num_crossposts',\n",
    "             'distinguished',\n",
    "             'created',\n",
    "                   'created_utc',\n",
    "             'comment_limit',\n",
    "             'approved_by',\n",
    "            'ups',\n",
    "            'downs',\n",
    "            'gilded']\n",
    "\n",
    "attributes_comments = ['id',\n",
    "                        '_submission',\n",
    "                       'subreddit_id',\n",
    "                      'score',\n",
    "                      'author',\n",
    "                       'author_flair_text',\n",
    "                       'archived',\n",
    "                       'name',\n",
    "                        'body',\n",
    "                      'send_replies',\n",
    "                    'distinguished',\n",
    "                      'created',\n",
    "                       'created_utc',\n",
    "                    'approved_by',\n",
    "                      'link_id',\n",
    "                      'parent_id',\n",
    "                      'ups',\n",
    "                      'downs',\n",
    "                      'gilded']"
   ]
  },
  {
   "cell_type": "code",
   "execution_count": 6,
   "metadata": {
    "collapsed": true
   },
   "outputs": [],
   "source": [
    "def attribute_to_df(df, obj, attribute, list_attributes):\n",
    "    # Add attribute to the list\n",
    "    att_value = getattr(obj, attribute)\n",
    "    temp_list.append(att_value)\n",
    "    \n",
    "    # If all the attributes have been added to the list,\n",
    "    # append the list to the dataframe\n",
    "    if attribute == list_attributes[-1]:\n",
    "        if len(df) > 0:\n",
    "            df_temp = pd.DataFrame([temp_list])\n",
    "            df = df.append(df_temp)\n",
    "        if len(df) == 0:\n",
    "            df = pd.DataFrame([temp_list])\n",
    "    \n",
    "    return df"
   ]
  },
  {
   "cell_type": "code",
   "execution_count": 7,
   "metadata": {
    "collapsed": true
   },
   "outputs": [],
   "source": [
    "num_subm = 1000\n",
    "df = pd.DataFrame()\n",
    "df2 = pd.DataFrame()\n",
    "for idx, submission in enumerate(reddit.subreddit('CanadaPublicServants').hot(limit=num_subm)):\n",
    "    for attribute in attributes_subm:\n",
    "        # Initialize a list for each new object\n",
    "        if attribute == attributes_subm[0]:\n",
    "            temp_list = []\n",
    "        df = attribute_to_df(df,submission,attribute,attributes_subm)\n",
    "    \n",
    "    for idx2, comment in enumerate(submission.comments):\n",
    "        for attribute in attributes_comments:\n",
    "            # Initialize a list for each new object\n",
    "            if attribute == attributes_comments[0]:\n",
    "                temp_list = []\n",
    "            df2 = attribute_to_df(df2,comment,attribute,attributes_comments)"
   ]
  },
  {
   "cell_type": "markdown",
   "metadata": {},
   "source": [
    "### Define column's name + column's index"
   ]
  },
  {
   "cell_type": "code",
   "execution_count": 8,
   "metadata": {
    "scrolled": false
   },
   "outputs": [
    {
     "data": {
      "text/plain": [
       "'\\nprint(df.iloc[1].index)\\nprint(df_submissions.iloc[1].index)\\n\\nfor i in range(0, len(df.columns)):\\n    print(df.columns[i])\\n    print(type(df_submissions.iloc[1][i]))\\n    print(type(df.iloc[1][i]))\\n    print(df_submissions.iloc[1][i])\\n    print(df.iloc[1][i])\\n'"
      ]
     },
     "execution_count": 8,
     "metadata": {},
     "output_type": "execute_result"
    }
   ],
   "source": [
    "'''\n",
    "print(df.iloc[1].index)\n",
    "print(df_submissions.iloc[1].index)\n",
    "\n",
    "for i in range(0, len(df.columns)):\n",
    "    print(df.columns[i])\n",
    "    print(type(df_submissions.iloc[1][i]))\n",
    "    print(type(df.iloc[1][i]))\n",
    "    print(df_submissions.iloc[1][i])\n",
    "    print(df.iloc[1][i])\n",
    "'''"
   ]
  },
  {
   "cell_type": "code",
   "execution_count": 9,
   "metadata": {},
   "outputs": [
    {
     "name": "stdout",
     "output_type": "stream",
     "text": [
      "<class 'pandas.core.frame.DataFrame'>\n",
      "(1000, 25)\n",
      "id                    object\n",
      "subreddit_id          object\n",
      "title                 object\n",
      "score                  int64\n",
      "author                object\n",
      "author_flair_text     object\n",
      "likes                 object\n",
      "archived                bool\n",
      "is_video                bool\n",
      "name                  object\n",
      "over_18                 bool\n",
      "pinned                  bool\n",
      "quarantine              bool\n",
      "selftext              object\n",
      "send_replies            bool\n",
      "num_comments           int64\n",
      "num_crossposts         int64\n",
      "distinguished         object\n",
      "created              float64\n",
      "created_utc          float64\n",
      "comment_limit          int64\n",
      "approved_by           object\n",
      "ups                    int64\n",
      "downs                  int64\n",
      "gilded                 int64\n",
      "dtype: object\n",
      "       id subreddit_id                                              title  \\\n",
      "0  8lkb0l     t5_3f8vd  How flexible are teleworking options at your d...   \n",
      "0  8ljbjv     t5_3f8vd  Manager wants to talk to my new manager to pus...   \n",
      "0  8lj4jt     t5_3f8vd  DPI/DPW : who is here and what sessions are yo...   \n",
      "0  8lex8o     t5_3f8vd  What is the worst thing your manager has ever ...   \n",
      "0  8le0fp     t5_3f8vd  Which one of you forgot his toothbrush on the ...   \n",
      "\n",
      "   score         author author_flair_text likes  archived  is_video  \\\n",
      "0      4  wallofbullets              None  None     False     False   \n",
      "0      5   Lvl81Pikachu              None  None     False     False   \n",
      "0      3          ncoch              None  None     False     False   \n",
      "0     16   SeparateGain              None  None     False     False   \n",
      "0     14    BingoRingo2              None  None     False     False   \n",
      "\n",
      "        name   ...    num_comments  num_crossposts  distinguished  \\\n",
      "0  t3_8lkb0l   ...               3               0           None   \n",
      "0  t3_8ljbjv   ...              14               0           None   \n",
      "0  t3_8lj4jt   ...               4               0           None   \n",
      "0  t3_8lex8o   ...              35               0           None   \n",
      "0  t3_8le0fp   ...              20               0           None   \n",
      "\n",
      "        created   created_utc  comment_limit  approved_by ups  downs  gilded  \n",
      "0  1.527118e+09  1.527090e+09           2048         None   4      0       0  \n",
      "0  1.527111e+09  1.527082e+09           2048         None   5      0       0  \n",
      "0  1.527109e+09  1.527080e+09           2048         None   3      0       0  \n",
      "0  1.527063e+09  1.527034e+09           2048         None  16      0       0  \n",
      "0  1.527055e+09  1.527026e+09           2048         None  14      0       0  \n",
      "\n",
      "[5 rows x 25 columns]\n",
      "<class 'pandas.core.frame.DataFrame'>\n",
      "(4572, 19)\n",
      "comment_id            object\n",
      "_submission           object\n",
      "subreddit_id          object\n",
      "score                  int64\n",
      "author                object\n",
      "author_flair_text     object\n",
      "archived                bool\n",
      "name                  object\n",
      "body                  object\n",
      "send_replies            bool\n",
      "distinguished         object\n",
      "created              float64\n",
      "created_utc          float64\n",
      "approved_by           object\n",
      "link_id               object\n",
      "parent_id             object\n",
      "ups                    int64\n",
      "downs                  int64\n",
      "gilded                 int64\n",
      "dtype: object\n",
      "  comment_id _submission subreddit_id  score           author  \\\n",
      "0    dzg604b      8lkb0l     t5_3f8vd      2   anonymous_guy7   \n",
      "0    dzg6h70      8lkb0l     t5_3f8vd      2           redmur   \n",
      "0    dzg6rdb      8lkb0l     t5_3f8vd      1         coricron   \n",
      "0    dzfxn5f      8ljbjv     t5_3f8vd     12  the_mangobanana   \n",
      "0    dzg09dv      8ljbjv     t5_3f8vd      6       SmarchHare   \n",
      "\n",
      "  author_flair_text  archived        name  \\\n",
      "0              None     False  t1_dzg604b   \n",
      "0              None     False  t1_dzg6h70   \n",
      "0              None     False  t1_dzg6rdb   \n",
      "0              None     False  t1_dzfxn5f   \n",
      "0              None     False  t1_dzg09dv   \n",
      "\n",
      "                                                body  send_replies  \\\n",
      "0  Seems to be fairly flexible within the departm...          True   \n",
      "0  I work at a large department, and the party li...          True   \n",
      "0  We can do 2 days a week without medical reason...          True   \n",
      "0  If it's a deployment or a permanent promotiona...          True   \n",
      "0  > The problem is current manager doesn't belie...          True   \n",
      "\n",
      "  distinguished       created   created_utc approved_by    link_id  parent_id  \\\n",
      "0          None  1.527119e+09  1.527090e+09        None  t3_8lkb0l  t3_8lkb0l   \n",
      "0          None  1.527119e+09  1.527091e+09        None  t3_8lkb0l  t3_8lkb0l   \n",
      "0          None  1.527120e+09  1.527091e+09        None  t3_8lkb0l  t3_8lkb0l   \n",
      "0          None  1.527111e+09  1.527082e+09        None  t3_8ljbjv  t3_8ljbjv   \n",
      "0          None  1.527114e+09  1.527085e+09        None  t3_8ljbjv  t3_8ljbjv   \n",
      "\n",
      "   ups  downs  gilded  \n",
      "0    2      0       0  \n",
      "0    2      0       0  \n",
      "0    1      0       0  \n",
      "0   12      0       0  \n",
      "0    6      0       0  \n"
     ]
    }
   ],
   "source": [
    "df.columns = attributes_subm\n",
    "\n",
    "df2.columns = attributes_comments\n",
    "df2 = df2.rename(columns={'id':'comment_id'})\n",
    "\n",
    "print(type(df)); print(df.shape); print(df.dtypes)\n",
    "print(df[0:5])\n",
    "print(type(df2)); print(df2.shape); print(df2.dtypes)\n",
    "print(df2[0:5])"
   ]
  },
  {
   "cell_type": "markdown",
   "metadata": {},
   "source": [
    "# Append new data points to current dataframe"
   ]
  },
  {
   "cell_type": "code",
   "execution_count": 10,
   "metadata": {},
   "outputs": [
    {
     "name": "stdout",
     "output_type": "stream",
     "text": [
      "(2505, 25)\n",
      "(12127, 19)\n",
      "Lenght of the old 1505\n",
      "Lenght of the new 2091\n",
      "Lenght of the old 7555\n",
      "Lenght of the new 9946\n",
      "(1505, 25)\n",
      "(2091, 25)\n",
      "(7555, 19)\n",
      "(9946, 19)\n",
      "586 new submissions added\n",
      "2391 new comments added\n"
     ]
    }
   ],
   "source": [
    "new_submissions = pd.concat([df_submissions,df])\n",
    "print(new_submissions.shape)\n",
    "new_submissions = new_submissions.drop_duplicates(subset=['selftext'], keep='last')\n",
    "\n",
    "new_comments = pd.concat([df_comments,df2])\n",
    "print(new_comments.shape)\n",
    "new_comments = new_comments.drop_duplicates(subset=['body'], keep='last')\n",
    "\n",
    "print('Lenght of the old {}'.format(len(df_submissions))) \n",
    "print('Lenght of the new {}'.format(len(new_submissions))) \n",
    "print('Lenght of the old {}'.format(len(df_comments))) \n",
    "print('Lenght of the new {}'.format(len(new_comments))) \n",
    "\n",
    "print(df_submissions.shape), print(new_submissions.shape)\n",
    "print(df_comments.shape), print(new_comments.shape)\n",
    "\n",
    "print('{} new submissions added'.format(len(new_submissions)-len(df_submissions)))\n",
    "print('{} new comments added'.format(len(new_comments)-len(df_comments)))"
   ]
  },
  {
   "cell_type": "code",
   "execution_count": 11,
   "metadata": {},
   "outputs": [
    {
     "name": "stdout",
     "output_type": "stream",
     "text": [
      "Index(['id', 'subreddit_id', 'title', 'score', 'author', 'author_flair_text',\n",
      "       'likes', 'archived', 'is_video', 'name', 'over_18', 'pinned',\n",
      "       'quarantine', 'selftext', 'send_replies', 'num_comments',\n",
      "       'num_crossposts', 'distinguished', 'created', 'created_utc',\n",
      "       'comment_limit', 'approved_by', 'ups', 'downs', 'gilded'],\n",
      "      dtype='object')\n",
      "Index(['comment_id', '_submission', 'subreddit_id', 'score', 'author',\n",
      "       'author_flair_text', 'archived', 'name', 'body', 'send_replies',\n",
      "       'distinguished', 'created', 'created_utc', 'approved_by', 'link_id',\n",
      "       'parent_id', 'ups', 'downs', 'gilded'],\n",
      "      dtype='object')\n"
     ]
    }
   ],
   "source": [
    "print(new_submissions.columns)\n",
    "print(new_comments.columns)"
   ]
  },
  {
   "cell_type": "markdown",
   "metadata": {},
   "source": [
    "# 3) Export Dataframes to CSV"
   ]
  },
  {
   "cell_type": "code",
   "execution_count": 12,
   "metadata": {},
   "outputs": [
    {
     "name": "stdout",
     "output_type": "stream",
     "text": [
      "2018-05-23_1159\n",
      "reddit_comments_submission_2018-05-23_1159.csv\n"
     ]
    }
   ],
   "source": [
    "import os\n",
    "import sys\n",
    "import datetime\n",
    "\n",
    "now = datetime.datetime.now().strftime(\"%Y-%m-%d_%H%M\")\n",
    "print(now)\n",
    "\n",
    "print('reddit_comments_submission_' + str(now) + '.csv')"
   ]
  },
  {
   "cell_type": "code",
   "execution_count": 13,
   "metadata": {
    "collapsed": true
   },
   "outputs": [],
   "source": [
    "new_submissions.to_csv('reddit_submissions_wUTC_' + str(now) + '.csv', index=True, header = True)\n",
    "new_comments.to_csv('reddit_comments_wUTC_' + str(now) +'.csv', index=True, header = True)"
   ]
  },
  {
   "cell_type": "code",
   "execution_count": null,
   "metadata": {
    "collapsed": true
   },
   "outputs": [],
   "source": []
  }
 ],
 "metadata": {
  "kernelspec": {
   "display_name": "Python (py36)",
   "language": "python",
   "name": "py36"
  },
  "language_info": {
   "codemirror_mode": {
    "name": "ipython",
    "version": 3
   },
   "file_extension": ".py",
   "mimetype": "text/x-python",
   "name": "python",
   "nbconvert_exporter": "python",
   "pygments_lexer": "ipython3",
   "version": "3.6.3"
  }
 },
 "nbformat": 4,
 "nbformat_minor": 2
}
