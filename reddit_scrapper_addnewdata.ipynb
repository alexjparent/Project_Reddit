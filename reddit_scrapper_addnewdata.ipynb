{
 "cells": [
  {
   "cell_type": "markdown",
   "metadata": {},
   "source": [
    "# Update Dataframe"
   ]
  },
  {
   "cell_type": "markdown",
   "metadata": {},
   "source": [
    "This script has the objective to add submission and comment to the reddit dataframe"
   ]
  },
  {
   "cell_type": "markdown",
   "metadata": {},
   "source": [
    "# Import Libraries"
   ]
  },
  {
   "cell_type": "code",
   "execution_count": 1,
   "metadata": {
    "collapsed": true
   },
   "outputs": [],
   "source": [
    "import numpy as np\n",
    "import pandas as pd\n",
    "import praw"
   ]
  },
  {
   "cell_type": "code",
   "execution_count": 2,
   "metadata": {
    "collapsed": true
   },
   "outputs": [],
   "source": [
    "reddit = praw.Reddit(client_id='2YvrfPL-6r2E7g',\n",
    "                     client_secret='ClHTUejD1prIgWThqC5-IwswkM4',\n",
    "                     user_agent='alexparentt')"
   ]
  },
  {
   "cell_type": "markdown",
   "metadata": {},
   "source": [
    "# Import CSV's into pandas dataframes"
   ]
  },
  {
   "cell_type": "code",
   "execution_count": 5,
   "metadata": {
    "scrolled": true
   },
   "outputs": [
    {
     "name": "stdout",
     "output_type": "stream",
     "text": [
      "(999, 25)\n",
      "(4460, 19)\n"
     ]
    }
   ],
   "source": [
    "df_submissions = pd.read_csv(\"reddit_submissions_wUTC_2018-05-03_1817.csv\",\n",
    "skipinitialspace=True,\n",
    "header = 0,\n",
    "sep = ',',\n",
    "encoding='latin1')\n",
    "print(df_submissions.shape)\n",
    "df_submissions.reset_index() \n",
    "\n",
    "df_comments = pd.read_csv(\"reddit_comments_wUTC_2018-05-03_1817.csv\",\n",
    "skipinitialspace=True,\n",
    "header = 0,\n",
    "sep = ',',\n",
    "encoding='latin1')\n",
    "print(df_comments.shape)\n",
    "df_comments.reset_index()\n",
    "\n",
    "df_submissions = df_submissions.rename(columns={'id':'id'})\n",
    "df_comments = df_comments.rename(columns={'id':'comment_id'})"
   ]
  },
  {
   "cell_type": "code",
   "execution_count": 7,
   "metadata": {
    "scrolled": true
   },
   "outputs": [
    {
     "name": "stdout",
     "output_type": "stream",
     "text": [
      "(4460, 19)\n",
      "Index(['comment_id', '_submission', 'subreddit_id', 'score', 'author',\n",
      "       'author_flair_text', 'archived', 'name', 'body', 'send_replies',\n",
      "       'distinguished', 'created', 'created_utc', 'approved_by', 'link_id',\n",
      "       'parent_id', 'ups', 'downs', 'gilded'],\n",
      "      dtype='object')\n",
      "(999, 25)\n",
      "Index(['id', 'subreddit_id', 'title', 'score', 'author', 'author_flair_text',\n",
      "       'likes', 'archived', 'is_video', 'name', 'over_18', 'pinned',\n",
      "       'quarantine', 'selftext', 'send_replies', 'num_comments',\n",
      "       'num_crossposts', 'distinguished', 'created', 'created_utc',\n",
      "       'comment_limit', 'approved_by', 'ups', 'downs', 'gilded'],\n",
      "      dtype='object')\n"
     ]
    }
   ],
   "source": [
    "#df_submissions = df_submissions.drop(['Unnamed: 0'], axis=1)\n",
    "#df_comments = df_comments.drop(['Unnamed: 0'], axis=1)\n",
    "print(df_comments.shape)\n",
    "print(df_comments.columns)\n",
    "\n",
    "print(df_submissions.shape)\n",
    "print(df_submissions.columns)"
   ]
  },
  {
   "cell_type": "markdown",
   "metadata": {},
   "source": [
    "# Get new data points"
   ]
  },
  {
   "cell_type": "code",
   "execution_count": 8,
   "metadata": {
    "collapsed": true
   },
   "outputs": [],
   "source": [
    "attributes_subm = ['id', \n",
    "                   'subreddit_id',\n",
    "              'title', \n",
    "              'score', \n",
    "              'author',\n",
    "             'author_flair_text',\n",
    "              'likes', \n",
    "              'archived',\n",
    "             'is_video',\n",
    "             'name',\n",
    "             'over_18',\n",
    "             'pinned',    \n",
    "             'quarantine',\n",
    "             'selftext',\n",
    "             'send_replies',\n",
    "             'num_comments',\n",
    "             'num_crossposts',\n",
    "             'distinguished',\n",
    "             'created',\n",
    "                   'created_utc',\n",
    "             'comment_limit',\n",
    "             'approved_by',\n",
    "            'ups',\n",
    "            'downs',\n",
    "            'gilded']\n",
    "\n",
    "attributes_comments = ['id',\n",
    "                        '_submission',\n",
    "                       'subreddit_id',\n",
    "                      'score',\n",
    "                      'author',\n",
    "                       'author_flair_text',\n",
    "                       'archived',\n",
    "                       'name',\n",
    "                        'body',\n",
    "                      'send_replies',\n",
    "                    'distinguished',\n",
    "                      'created',\n",
    "                       'created_utc',\n",
    "                    'approved_by',\n",
    "                      'link_id',\n",
    "                      'parent_id',\n",
    "                      'ups',\n",
    "                      'downs',\n",
    "                      'gilded']"
   ]
  },
  {
   "cell_type": "code",
   "execution_count": 9,
   "metadata": {
    "collapsed": true
   },
   "outputs": [],
   "source": [
    "def attribute_to_df(df, obj, attribute, list_attributes):\n",
    "    # Add attribute to the list\n",
    "    att_value = getattr(obj, attribute)\n",
    "    temp_list.append(att_value)\n",
    "    \n",
    "    # If all the attributes have been added to the list,\n",
    "    # append the list to the dataframe\n",
    "    if attribute == list_attributes[-1]:\n",
    "        if len(df) > 0:\n",
    "            df_temp = pd.DataFrame([temp_list])\n",
    "            df = df.append(df_temp)\n",
    "        if len(df) == 0:\n",
    "            df = pd.DataFrame([temp_list])\n",
    "    \n",
    "    return df"
   ]
  },
  {
   "cell_type": "code",
   "execution_count": 10,
   "metadata": {
    "collapsed": true
   },
   "outputs": [],
   "source": [
    "num_subm = 1000\n",
    "df = pd.DataFrame()\n",
    "df2 = pd.DataFrame()\n",
    "for idx, submission in enumerate(reddit.subreddit('CanadaPublicServants').hot(limit=num_subm)):\n",
    "    for attribute in attributes_subm:\n",
    "        # Initialize a list for each new object\n",
    "        if attribute == attributes_subm[0]:\n",
    "            temp_list = []\n",
    "        df = attribute_to_df(df,submission,attribute,attributes_subm)\n",
    "    \n",
    "    for idx2, comment in enumerate(submission.comments):\n",
    "        for attribute in attributes_comments:\n",
    "            # Initialize a list for each new object\n",
    "            if attribute == attributes_comments[0]:\n",
    "                temp_list = []\n",
    "            df2 = attribute_to_df(df2,comment,attribute,attributes_comments)"
   ]
  },
  {
   "cell_type": "markdown",
   "metadata": {},
   "source": [
    "### Define column's name + column's index"
   ]
  },
  {
   "cell_type": "code",
   "execution_count": 12,
   "metadata": {},
   "outputs": [
    {
     "name": "stdout",
     "output_type": "stream",
     "text": [
      "(997, 25)\n",
      "(4451, 19)\n"
     ]
    }
   ],
   "source": [
    "df.columns = [attributes_subm]\n",
    "\n",
    "df2.columns = [attributes_comments]\n",
    "df2 = df2.rename(columns={'id':'comment_id'})\n",
    "\n",
    "print(df.shape)\n",
    "print(df2.shape)"
   ]
  },
  {
   "cell_type": "markdown",
   "metadata": {},
   "source": [
    "# Append new data points to current dataframe"
   ]
  },
  {
   "cell_type": "code",
   "execution_count": 13,
   "metadata": {},
   "outputs": [
    {
     "name": "stdout",
     "output_type": "stream",
     "text": [
      "(1996, 25)\n",
      "(8911, 19)\n",
      "Lenght of the old 999\n",
      "Lenght of the new 1362\n",
      "Lenght of the old 4460\n",
      "Lenght of the new 6704\n",
      "(999, 25)\n",
      "(1362, 25)\n",
      "(4460, 19)\n",
      "(6704, 19)\n",
      "363 new submissions added\n",
      "2244 new comments added\n"
     ]
    }
   ],
   "source": [
    "new_submissions = pd.concat([df_submissions,df])\n",
    "print(new_submissions.shape)\n",
    "new_submissions = new_submissions.drop_duplicates(subset=['selftext'], keep='last')\n",
    "\n",
    "new_comments = pd.concat([df_comments,df2])\n",
    "print(new_comments.shape)\n",
    "new_comments = new_comments.drop_duplicates(subset=['body'], keep='last')\n",
    "\n",
    "print('Lenght of the old {}'.format(len(df_submissions))) \n",
    "print('Lenght of the new {}'.format(len(new_submissions))) \n",
    "print('Lenght of the old {}'.format(len(df_comments))) \n",
    "print('Lenght of the new {}'.format(len(new_comments))) \n",
    "\n",
    "print(df_submissions.shape), print(new_submissions.shape)\n",
    "print(df_comments.shape), print(new_comments.shape)\n",
    "\n",
    "print('{} new submissions added'.format(len(new_submissions)-len(df_submissions)))\n",
    "print('{} new comments added'.format(len(new_comments)-len(df_comments)))"
   ]
  },
  {
   "cell_type": "code",
   "execution_count": 14,
   "metadata": {},
   "outputs": [
    {
     "name": "stdout",
     "output_type": "stream",
     "text": [
      "Index(['id', 'subreddit_id', 'title', 'score', 'author', 'author_flair_text',\n",
      "       'likes', 'archived', 'is_video', 'name', 'over_18', 'pinned',\n",
      "       'quarantine', 'selftext', 'send_replies', 'num_comments',\n",
      "       'num_crossposts', 'distinguished', 'created', 'created_utc',\n",
      "       'comment_limit', 'approved_by', 'ups', 'downs', 'gilded'],\n",
      "      dtype='object')\n",
      "Index(['comment_id', '_submission', 'subreddit_id', 'score', 'author',\n",
      "       'author_flair_text', 'archived', 'name', 'body', 'send_replies',\n",
      "       'distinguished', 'created', 'created_utc', 'approved_by', 'link_id',\n",
      "       'parent_id', 'ups', 'downs', 'gilded'],\n",
      "      dtype='object')\n"
     ]
    }
   ],
   "source": [
    "print(new_submissions.columns)\n",
    "print(new_comments.columns)"
   ]
  },
  {
   "cell_type": "markdown",
   "metadata": {},
   "source": [
    "# 3) Export Dataframes to CSV"
   ]
  },
  {
   "cell_type": "code",
   "execution_count": 15,
   "metadata": {},
   "outputs": [
    {
     "name": "stdout",
     "output_type": "stream",
     "text": [
      "2018-05-10_1022\n",
      "reddit_comments_submission_2018-05-10_1022.csv\n"
     ]
    }
   ],
   "source": [
    "import os\n",
    "import sys\n",
    "import datetime\n",
    "\n",
    "now = datetime.datetime.now().strftime(\"%Y-%m-%d_%H%M\")\n",
    "print(now)\n",
    "\n",
    "print('reddit_comments_submission_' + str(now) + '.csv')"
   ]
  },
  {
   "cell_type": "code",
   "execution_count": 18,
   "metadata": {
    "collapsed": true
   },
   "outputs": [],
   "source": [
    "new_submissions.to_csv('reddit_submissions_wUTC_' + str(now) + '.csv', index=True, header = True)\n",
    "new_comments.to_csv('reddit_comments_wUTC' + str(now) +'.csv', index=True, header = True)"
   ]
  },
  {
   "cell_type": "code",
   "execution_count": null,
   "metadata": {
    "collapsed": true
   },
   "outputs": [],
   "source": []
  }
 ],
 "metadata": {
  "kernelspec": {
   "display_name": "py36",
   "language": "python",
   "name": "py36"
  },
  "language_info": {
   "codemirror_mode": {
    "name": "ipython",
    "version": 3
   },
   "file_extension": ".py",
   "mimetype": "text/x-python",
   "name": "python",
   "nbconvert_exporter": "python",
   "pygments_lexer": "ipython3",
   "version": "3.6.3"
  }
 },
 "nbformat": 4,
 "nbformat_minor": 2
}
